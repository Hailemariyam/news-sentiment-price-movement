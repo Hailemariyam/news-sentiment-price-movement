{
 "cells": [
  {
   "cell_type": "code",
   "execution_count": null,
   "id": "774bc17f",
   "metadata": {},
   "outputs": [],
   "source": [
    "# 📦 Import required libraries\n",
    "import pandas as pd\n",
    "from textblob import TextBlob\n",
    "import matplotlib.pyplot as plt\n",
    "import seaborn as sns\n",
    "\n",
    "# 📁 Load datasets\n",
    "news_df = pd.read_csv(\"./data/raw_analyst_ratings.csv\", parse_dates=['date'])\n",
    "stock_df = pd.read_csv(\"./data/AAPL_historical_data.csv\", parse_dates=['Date'])\n",
    "\n",
    "# 🧹 Clean and prepare stock data\n",
    "stock_df.rename(columns={'Date': 'date'}, inplace=True)\n",
    "stock_df.sort_values('date', inplace=True)\n",
    "stock_df['Close'] = pd.to_numeric(stock_df['Close'], errors='coerce')\n",
    "stock_df['daily_return'] = stock_df['Close'].pct_change()\n",
    "\n",
    "# 🧹 Clean news data and perform sentiment analysis\n",
    "news_df.dropna(subset=['headline'], inplace=True)\n",
    "news_df['sentiment'] = news_df['headline'].apply(lambda x: TextBlob(str(x)).sentiment.polarity)\n",
    "\n",
    "# 📅 Group average daily sentiment\n",
    "daily_sentiment = news_df.groupby('date')['sentiment'].mean().reset_index()\n",
    "\n",
    "# 🔗 Merge news sentiment and stock returns by date\n",
    "merged_df = pd.merge(stock_df[['date', 'daily_return']], daily_sentiment, on='date', how='inner')\n",
    "merged_df.dropna(inplace=True)\n",
    "\n",
    "# 📈 Visualize the relationship\n",
    "plt.figure(figsize=(10, 6))\n",
    "sns.regplot(x='sentiment', y='daily_return', data=merged_df, scatter_kws={'alpha':0.6})\n",
    "plt.title(\"Correlation Between News Sentiment and Daily Stock Return\")\n",
    "plt.xlabel(\"Average Daily Sentiment\")\n",
    "plt.ylabel(\"Daily Stock Return (%)\")\n",
    "plt.grid(True)\n",
    "plt.tight_layout()\n",
    "plt.show()\n",
    "\n",
    "# 📊 Correlation coefficient\n",
    "correlation = merged_df['sentiment'].corr(merged_df['daily_return'])\n",
    "print(f\"📌 Pearson Correlation Coefficient: {correlation:.4f}\")\n"
   ]
  }
 ],
 "metadata": {
  "kernelspec": {
   "display_name": "venv",
   "language": "python",
   "name": "python3"
  },
  "language_info": {
   "codemirror_mode": {
    "name": "ipython",
    "version": 3
   },
   "file_extension": ".py",
   "mimetype": "text/x-python",
   "name": "python",
   "nbconvert_exporter": "python",
   "pygments_lexer": "ipython3",
   "version": "3.12.7"
  }
 },
 "nbformat": 4,
 "nbformat_minor": 5
}
